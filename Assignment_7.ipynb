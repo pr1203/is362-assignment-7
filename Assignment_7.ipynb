{
 "cells": [
  {
   "cell_type": "markdown",
   "metadata": {},
   "source": [
    "IS362 - Assignment 7"
   ]
  },
  {
   "cell_type": "markdown",
   "metadata": {},
   "source": [
    "Choose six recent popular movies. Ask at least five people that you know (friends, family, classmates, imaginary friends) to rate each of these movies that they have seen on a scale of 1 to 5. There should be at least one movie that not everyone has seen!\n",
    "\n",
    "Take the results (observations) and store them somewhere (like a SQL database, or a .CSV file). Load the information into a pandas dataframe. Your solution should include Python and pandas code that accomplishes the following:\n",
    "1. Load the ratings by user information that you collected into a pandas dataframe.\n",
    "2. Show the average ratings for each user and each movie.\n",
    "3. Create a new pandas dataframe, with normalized ratings for each user. Again, show the average ratings for each user and each movie.\n",
    "4. Provide a text-based conclusion: explain what might be advantages and disadvantages of using normalized ratings instead of the actual ratings.\n",
    "5. [Extra credit] Create another new pandas dataframe, with standardized ratings for each user. Once again, show the average ratings for each user and each movie."
   ]
  },
  {
   "cell_type": "markdown",
   "metadata": {},
   "source": [
    "### Python Code for Imports and Reading the Data\n",
    "To begin, we will import the standard libraries needed, read in the data, and display the DataFrame."
   ]
  },
  {
   "cell_type": "code",
   "execution_count": 1,
   "metadata": {},
   "outputs": [
    {
     "data": {
      "text/html": [
       "<div>\n",
       "<style scoped>\n",
       "    .dataframe tbody tr th:only-of-type {\n",
       "        vertical-align: middle;\n",
       "    }\n",
       "\n",
       "    .dataframe tbody tr th {\n",
       "        vertical-align: top;\n",
       "    }\n",
       "\n",
       "    .dataframe thead th {\n",
       "        text-align: right;\n",
       "    }\n",
       "</style>\n",
       "<table border=\"1\" class=\"dataframe\">\n",
       "  <thead>\n",
       "    <tr style=\"text-align: right;\">\n",
       "      <th></th>\n",
       "      <th>Mulan</th>\n",
       "      <th>The Invisible Man</th>\n",
       "      <th>Contagion</th>\n",
       "      <th>Avengers: Endgame</th>\n",
       "      <th>The Delta Force</th>\n",
       "      <th>An American Crime</th>\n",
       "    </tr>\n",
       "  </thead>\n",
       "  <tbody>\n",
       "    <tr>\n",
       "      <th>Andrew</th>\n",
       "      <td>2.0</td>\n",
       "      <td>4</td>\n",
       "      <td>3.0</td>\n",
       "      <td>NaN</td>\n",
       "      <td>4.0</td>\n",
       "      <td>4.0</td>\n",
       "    </tr>\n",
       "    <tr>\n",
       "      <th>Joel</th>\n",
       "      <td>2.0</td>\n",
       "      <td>3</td>\n",
       "      <td>3.0</td>\n",
       "      <td>5.0</td>\n",
       "      <td>NaN</td>\n",
       "      <td>NaN</td>\n",
       "    </tr>\n",
       "    <tr>\n",
       "      <th>Justin</th>\n",
       "      <td>NaN</td>\n",
       "      <td>3</td>\n",
       "      <td>NaN</td>\n",
       "      <td>5.0</td>\n",
       "      <td>4.0</td>\n",
       "      <td>NaN</td>\n",
       "    </tr>\n",
       "    <tr>\n",
       "      <th>Kimberley</th>\n",
       "      <td>1.0</td>\n",
       "      <td>4</td>\n",
       "      <td>4.0</td>\n",
       "      <td>5.0</td>\n",
       "      <td>4.0</td>\n",
       "      <td>5.0</td>\n",
       "    </tr>\n",
       "    <tr>\n",
       "      <th>Kiaralys</th>\n",
       "      <td>1.0</td>\n",
       "      <td>4</td>\n",
       "      <td>NaN</td>\n",
       "      <td>4.0</td>\n",
       "      <td>NaN</td>\n",
       "      <td>NaN</td>\n",
       "    </tr>\n",
       "    <tr>\n",
       "      <th>Moses</th>\n",
       "      <td>3.0</td>\n",
       "      <td>4</td>\n",
       "      <td>4.0</td>\n",
       "      <td>5.0</td>\n",
       "      <td>4.0</td>\n",
       "      <td>NaN</td>\n",
       "    </tr>\n",
       "  </tbody>\n",
       "</table>\n",
       "</div>"
      ],
      "text/plain": [
       "           Mulan  The Invisible Man  Contagion  Avengers: Endgame  \\\n",
       "Andrew       2.0                  4        3.0                NaN   \n",
       "Joel         2.0                  3        3.0                5.0   \n",
       "Justin       NaN                  3        NaN                5.0   \n",
       "Kimberley    1.0                  4        4.0                5.0   \n",
       "Kiaralys     1.0                  4        NaN                4.0   \n",
       "Moses        3.0                  4        4.0                5.0   \n",
       "\n",
       "           The Delta Force  An American Crime  \n",
       "Andrew                 4.0                4.0  \n",
       "Joel                   NaN                NaN  \n",
       "Justin                 4.0                NaN  \n",
       "Kimberley              4.0                5.0  \n",
       "Kiaralys               NaN                NaN  \n",
       "Moses                  4.0                NaN  "
      ]
     },
     "execution_count": 1,
     "metadata": {},
     "output_type": "execute_result"
    }
   ],
   "source": [
    "# standard imports for numpy and pandas\n",
    "import numpy as np\n",
    "import pandas as pd\n",
    "\n",
    "# read wide data to DataFrame, set first column as index\n",
    "df = pd.read_csv('data/survey.csv', index_col=0)\n",
    "\n",
    "# make a copy of DataFrame to preserve origanal import\n",
    "survey = df.copy()\n",
    "\n",
    "# view full DataFrame since dataset is small \n",
    "survey"
   ]
  },
  {
   "cell_type": "markdown",
   "metadata": {},
   "source": [
    "###  Average Ratings for Each User and Each Movie\n",
    "For some of the ratings, we have users that have a \"NaN\" value. This \"np.NaN\" value represesnts a movie that the person has not seen. Since we don't want to have these values included in the average computations, we will keep them as \"NaN\". Updating them, even to a zero value, could create some misleading averages."
   ]
  },
  {
   "cell_type": "code",
   "execution_count": 2,
   "metadata": {},
   "outputs": [
    {
     "data": {
      "text/plain": [
       "Mulan                1.80\n",
       "The Invisible Man    3.67\n",
       "Contagion            3.50\n",
       "Avengers: Endgame    4.80\n",
       "The Delta Force      4.00\n",
       "An American Crime    4.50\n",
       "dtype: float64"
      ]
     },
     "execution_count": 2,
     "metadata": {},
     "output_type": "execute_result"
    }
   ],
   "source": [
    "# view average of each movie's ratings, rounded to 2 decimals\n",
    "survey.apply(lambda col: col.mean()).round(2)"
   ]
  },
  {
   "cell_type": "code",
   "execution_count": 3,
   "metadata": {},
   "outputs": [
    {
     "data": {
      "text/plain": [
       "Andrew       3.40\n",
       "Joel         3.25\n",
       "Justin       4.00\n",
       "Kimberley    3.83\n",
       "Kiaralys     3.00\n",
       "Moses        4.00\n",
       "dtype: float64"
      ]
     },
     "execution_count": 3,
     "metadata": {},
     "output_type": "execute_result"
    }
   ],
   "source": [
    "# view average of each user's ratings, rounded to 2 decimals\n",
    "survey.apply(lambda row: row.mean(), axis=1).round(2)"
   ]
  },
  {
   "cell_type": "markdown",
   "metadata": {},
   "source": [
    "### Normalized Ratings\n",
    "Normalization scales all numeric variables in the range 0-1. One possible formula is given below:\n",
    "\n",
    "<img src=\"norm.png\" alt=\"Norm Formula\" title=\"Normalization\" />\n",
    "\n",
    "This normalized formula will be applied on each column since it only makes sense to normalize by movie and not by person."
   ]
  },
  {
   "cell_type": "code",
   "execution_count": 4,
   "metadata": {},
   "outputs": [
    {
     "data": {
      "text/html": [
       "<div>\n",
       "<style scoped>\n",
       "    .dataframe tbody tr th:only-of-type {\n",
       "        vertical-align: middle;\n",
       "    }\n",
       "\n",
       "    .dataframe tbody tr th {\n",
       "        vertical-align: top;\n",
       "    }\n",
       "\n",
       "    .dataframe thead th {\n",
       "        text-align: right;\n",
       "    }\n",
       "</style>\n",
       "<table border=\"1\" class=\"dataframe\">\n",
       "  <thead>\n",
       "    <tr style=\"text-align: right;\">\n",
       "      <th></th>\n",
       "      <th>Mulan</th>\n",
       "      <th>The Invisible Man</th>\n",
       "      <th>Contagion</th>\n",
       "      <th>Avengers: Endgame</th>\n",
       "      <th>The Delta Force</th>\n",
       "      <th>An American Crime</th>\n",
       "    </tr>\n",
       "  </thead>\n",
       "  <tbody>\n",
       "    <tr>\n",
       "      <th>Andrew</th>\n",
       "      <td>0.5</td>\n",
       "      <td>1.0</td>\n",
       "      <td>0.0</td>\n",
       "      <td>NaN</td>\n",
       "      <td>NaN</td>\n",
       "      <td>0.0</td>\n",
       "    </tr>\n",
       "    <tr>\n",
       "      <th>Joel</th>\n",
       "      <td>0.5</td>\n",
       "      <td>0.0</td>\n",
       "      <td>0.0</td>\n",
       "      <td>1.0</td>\n",
       "      <td>NaN</td>\n",
       "      <td>NaN</td>\n",
       "    </tr>\n",
       "    <tr>\n",
       "      <th>Justin</th>\n",
       "      <td>NaN</td>\n",
       "      <td>0.0</td>\n",
       "      <td>NaN</td>\n",
       "      <td>1.0</td>\n",
       "      <td>NaN</td>\n",
       "      <td>NaN</td>\n",
       "    </tr>\n",
       "    <tr>\n",
       "      <th>Kimberley</th>\n",
       "      <td>0.0</td>\n",
       "      <td>1.0</td>\n",
       "      <td>1.0</td>\n",
       "      <td>1.0</td>\n",
       "      <td>NaN</td>\n",
       "      <td>1.0</td>\n",
       "    </tr>\n",
       "    <tr>\n",
       "      <th>Kiaralys</th>\n",
       "      <td>0.0</td>\n",
       "      <td>1.0</td>\n",
       "      <td>NaN</td>\n",
       "      <td>0.0</td>\n",
       "      <td>NaN</td>\n",
       "      <td>NaN</td>\n",
       "    </tr>\n",
       "    <tr>\n",
       "      <th>Moses</th>\n",
       "      <td>1.0</td>\n",
       "      <td>1.0</td>\n",
       "      <td>1.0</td>\n",
       "      <td>1.0</td>\n",
       "      <td>NaN</td>\n",
       "      <td>NaN</td>\n",
       "    </tr>\n",
       "  </tbody>\n",
       "</table>\n",
       "</div>"
      ],
      "text/plain": [
       "           Mulan  The Invisible Man  Contagion  Avengers: Endgame  \\\n",
       "Andrew       0.5                1.0        0.0                NaN   \n",
       "Joel         0.5                0.0        0.0                1.0   \n",
       "Justin       NaN                0.0        NaN                1.0   \n",
       "Kimberley    0.0                1.0        1.0                1.0   \n",
       "Kiaralys     0.0                1.0        NaN                0.0   \n",
       "Moses        1.0                1.0        1.0                1.0   \n",
       "\n",
       "           The Delta Force  An American Crime  \n",
       "Andrew                 NaN                0.0  \n",
       "Joel                   NaN                NaN  \n",
       "Justin                 NaN                NaN  \n",
       "Kimberley              NaN                1.0  \n",
       "Kiaralys               NaN                NaN  \n",
       "Moses                  NaN                NaN  "
      ]
     },
     "execution_count": 4,
     "metadata": {},
     "output_type": "execute_result"
    }
   ],
   "source": [
    "# copy original DataFrame\n",
    "df_norm = df.copy()\n",
    "\n",
    "# apply normalization formula as a function\n",
    "df_norm = df_norm.apply(lambda x: (x-x.min()) / (x.max() - x.min()))\n",
    "\n",
    "# view full DataFrame since dataset is small \n",
    "df_norm"
   ]
  },
  {
   "cell_type": "code",
   "execution_count": 5,
   "metadata": {},
   "outputs": [
    {
     "data": {
      "text/plain": [
       "Mulan                0.40\n",
       "The Invisible Man    0.67\n",
       "Contagion            0.50\n",
       "Avengers: Endgame    0.80\n",
       "The Delta Force       NaN\n",
       "An American Crime    0.50\n",
       "dtype: float64"
      ]
     },
     "execution_count": 5,
     "metadata": {},
     "output_type": "execute_result"
    }
   ],
   "source": [
    "# view average of each movie's ratings, rounded to 2 decimals\n",
    "df_norm.apply(lambda col: col.mean()).round(2)"
   ]
  },
  {
   "cell_type": "code",
   "execution_count": 6,
   "metadata": {},
   "outputs": [
    {
     "data": {
      "text/plain": [
       "Andrew       0.38\n",
       "Joel         0.38\n",
       "Justin       0.50\n",
       "Kimberley    0.80\n",
       "Kiaralys     0.33\n",
       "Moses        1.00\n",
       "dtype: float64"
      ]
     },
     "execution_count": 6,
     "metadata": {},
     "output_type": "execute_result"
    }
   ],
   "source": [
    "# view average of each user's ratings, rounded to 2 decimals\n",
    "df_norm.apply(lambda row: row.mean(), axis=1).round(2)"
   ]
  },
  {
   "cell_type": "markdown",
   "metadata": {},
   "source": [
    "Normalization scales data between the range of 0 and 1, regardless of the initial values. By doing this, we have a managable range that we can use to present our data. Normalizing data helps curb outliners and provide a more \"in-line\" set of numbers for our data. However, the normalized data can be misleading if all of the data within a dataframe column or panda series is the same value. This will cause it to result to \"np.NaN\". For example, in my dataset, the move \"The Delta Force\" was rated with 4's from each person. The normalized formula caused a division by zero, which in turn makes it seem like there is no results for that specific movie."
   ]
  },
  {
   "cell_type": "markdown",
   "metadata": {},
   "source": [
    "### Standardized Ratings\n",
    "Standardization transforms the data to have zero mean and unit variance, for example using the equation below:\n",
    "<img src=\"stand.png\" alt=\"Stand Formula\" title=\"Standardization\" />\n",
    "\n",
    "This standardized formula will be applied on each column."
   ]
  },
  {
   "cell_type": "code",
   "execution_count": 7,
   "metadata": {},
   "outputs": [
    {
     "data": {
      "text/html": [
       "<div>\n",
       "<style scoped>\n",
       "    .dataframe tbody tr th:only-of-type {\n",
       "        vertical-align: middle;\n",
       "    }\n",
       "\n",
       "    .dataframe tbody tr th {\n",
       "        vertical-align: top;\n",
       "    }\n",
       "\n",
       "    .dataframe thead th {\n",
       "        text-align: right;\n",
       "    }\n",
       "</style>\n",
       "<table border=\"1\" class=\"dataframe\">\n",
       "  <thead>\n",
       "    <tr style=\"text-align: right;\">\n",
       "      <th></th>\n",
       "      <th>Mulan</th>\n",
       "      <th>The Invisible Man</th>\n",
       "      <th>Contagion</th>\n",
       "      <th>Avengers: Endgame</th>\n",
       "      <th>The Delta Force</th>\n",
       "      <th>An American Crime</th>\n",
       "    </tr>\n",
       "  </thead>\n",
       "  <tbody>\n",
       "    <tr>\n",
       "      <th>Andrew</th>\n",
       "      <td>0.239046</td>\n",
       "      <td>0.645497</td>\n",
       "      <td>-0.866025</td>\n",
       "      <td>NaN</td>\n",
       "      <td>NaN</td>\n",
       "      <td>-0.707107</td>\n",
       "    </tr>\n",
       "    <tr>\n",
       "      <th>Joel</th>\n",
       "      <td>0.239046</td>\n",
       "      <td>-1.290994</td>\n",
       "      <td>-0.866025</td>\n",
       "      <td>0.447214</td>\n",
       "      <td>NaN</td>\n",
       "      <td>NaN</td>\n",
       "    </tr>\n",
       "    <tr>\n",
       "      <th>Justin</th>\n",
       "      <td>NaN</td>\n",
       "      <td>-1.290994</td>\n",
       "      <td>NaN</td>\n",
       "      <td>0.447214</td>\n",
       "      <td>NaN</td>\n",
       "      <td>NaN</td>\n",
       "    </tr>\n",
       "    <tr>\n",
       "      <th>Kimberley</th>\n",
       "      <td>-0.956183</td>\n",
       "      <td>0.645497</td>\n",
       "      <td>0.866025</td>\n",
       "      <td>0.447214</td>\n",
       "      <td>NaN</td>\n",
       "      <td>0.707107</td>\n",
       "    </tr>\n",
       "    <tr>\n",
       "      <th>Kiaralys</th>\n",
       "      <td>-0.956183</td>\n",
       "      <td>0.645497</td>\n",
       "      <td>NaN</td>\n",
       "      <td>-1.788854</td>\n",
       "      <td>NaN</td>\n",
       "      <td>NaN</td>\n",
       "    </tr>\n",
       "    <tr>\n",
       "      <th>Moses</th>\n",
       "      <td>1.434274</td>\n",
       "      <td>0.645497</td>\n",
       "      <td>0.866025</td>\n",
       "      <td>0.447214</td>\n",
       "      <td>NaN</td>\n",
       "      <td>NaN</td>\n",
       "    </tr>\n",
       "  </tbody>\n",
       "</table>\n",
       "</div>"
      ],
      "text/plain": [
       "              Mulan  The Invisible Man  Contagion  Avengers: Endgame  \\\n",
       "Andrew     0.239046           0.645497  -0.866025                NaN   \n",
       "Joel       0.239046          -1.290994  -0.866025           0.447214   \n",
       "Justin          NaN          -1.290994        NaN           0.447214   \n",
       "Kimberley -0.956183           0.645497   0.866025           0.447214   \n",
       "Kiaralys  -0.956183           0.645497        NaN          -1.788854   \n",
       "Moses      1.434274           0.645497   0.866025           0.447214   \n",
       "\n",
       "           The Delta Force  An American Crime  \n",
       "Andrew                 NaN          -0.707107  \n",
       "Joel                   NaN                NaN  \n",
       "Justin                 NaN                NaN  \n",
       "Kimberley              NaN           0.707107  \n",
       "Kiaralys               NaN                NaN  \n",
       "Moses                  NaN                NaN  "
      ]
     },
     "execution_count": 7,
     "metadata": {},
     "output_type": "execute_result"
    }
   ],
   "source": [
    "# copy original DataFrame\n",
    "df_stand = df.copy()\n",
    "\n",
    "# apply normalization formula as a function\n",
    "df_stand = df_stand.apply(lambda x: (x-x.mean()) / (x.std()))\n",
    "\n",
    "# view full DataFrame since dataset is small \n",
    "df_stand"
   ]
  },
  {
   "cell_type": "code",
   "execution_count": 8,
   "metadata": {},
   "outputs": [
    {
     "data": {
      "text/plain": [
       "Mulan               -0.0\n",
       "The Invisible Man    0.0\n",
       "Contagion            0.0\n",
       "Avengers: Endgame    0.0\n",
       "The Delta Force      NaN\n",
       "An American Crime    0.0\n",
       "dtype: float64"
      ]
     },
     "execution_count": 8,
     "metadata": {},
     "output_type": "execute_result"
    }
   ],
   "source": [
    "# view average of each movie's ratings, rounded to 2 decimals\n",
    "df_stand.apply(lambda col: col.mean()).round(2)"
   ]
  },
  {
   "cell_type": "code",
   "execution_count": 9,
   "metadata": {},
   "outputs": [
    {
     "data": {
      "text/plain": [
       "Andrew      -0.17\n",
       "Joel        -0.37\n",
       "Justin      -0.42\n",
       "Kimberley    0.34\n",
       "Kiaralys    -0.70\n",
       "Moses        0.85\n",
       "dtype: float64"
      ]
     },
     "execution_count": 9,
     "metadata": {},
     "output_type": "execute_result"
    }
   ],
   "source": [
    "# view average of each user's ratings, rounded to 2 decimals\n",
    "df_stand.apply(lambda row: row.mean(), axis=1).round(2)"
   ]
  },
  {
   "cell_type": "code",
   "execution_count": null,
   "metadata": {},
   "outputs": [],
   "source": []
  }
 ],
 "metadata": {
  "kernelspec": {
   "display_name": "Python 3",
   "language": "python",
   "name": "python3"
  },
  "language_info": {
   "codemirror_mode": {
    "name": "ipython",
    "version": 3
   },
   "file_extension": ".py",
   "mimetype": "text/x-python",
   "name": "python",
   "nbconvert_exporter": "python",
   "pygments_lexer": "ipython3",
   "version": "3.8.3"
  }
 },
 "nbformat": 4,
 "nbformat_minor": 4
}
